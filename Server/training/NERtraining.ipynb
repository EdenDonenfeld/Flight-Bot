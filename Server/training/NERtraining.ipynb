{
 "cells": [
  {
   "cell_type": "markdown",
   "metadata": {},
   "source": [
    "### Imports\n",
    "\n"
   ]
  },
  {
   "cell_type": "code",
   "execution_count": 42,
   "metadata": {},
   "outputs": [],
   "source": [
    "import json\n",
    "from transformers import BertTokenizer\n",
    "import pandas as pd\n",
    "import os\n",
    "# os.chdir(r'C:\\Users\\deepa\\Downloads')\n",
    "\n",
    "with open('./data/annotations.json', 'r', encoding='utf-8') as f:\n",
    "    data = json.load(f)"
   ]
  },
  {
   "cell_type": "markdown",
   "metadata": {},
   "source": [
    "### load the dataset\n"
   ]
  },
  {
   "cell_type": "code",
   "execution_count": 4,
   "metadata": {},
   "outputs": [],
   "source": [
    "with open('./data/classNERData.json', 'r', encoding='utf-8') as file:\n",
    "    data = json.load(file)\n"
   ]
  },
  {
   "cell_type": "code",
   "execution_count": 43,
   "metadata": {},
   "outputs": [
    {
     "ename": "TypeError",
     "evalue": "string indices must be integers, not 'str'",
     "output_type": "error",
     "traceback": [
      "\u001b[1;31m---------------------------------------------------------------------------\u001b[0m",
      "\u001b[1;31mTypeError\u001b[0m                                 Traceback (most recent call last)",
      "Cell \u001b[1;32mIn[43], line 3\u001b[0m\n\u001b[0;32m      1\u001b[0m \u001b[38;5;66;03m#print all requests\u001b[39;00m\n\u001b[0;32m      2\u001b[0m \u001b[38;5;28;01mfor\u001b[39;00m sentence \u001b[38;5;129;01min\u001b[39;00m data:\n\u001b[1;32m----> 3\u001b[0m     \u001b[38;5;28mprint\u001b[39m(\u001b[43msentence\u001b[49m\u001b[43m[\u001b[49m\u001b[38;5;124;43m'\u001b[39;49m\u001b[38;5;124;43mrequest\u001b[39;49m\u001b[38;5;124;43m'\u001b[39;49m\u001b[43m]\u001b[49m)\n",
      "\u001b[1;31mTypeError\u001b[0m: string indices must be integers, not 'str'"
     ]
    }
   ],
   "source": [
    "#print all requests\n",
    "for sentence in data:\n",
    "    print(sentence['request'])"
   ]
  },
  {
   "cell_type": "markdown",
   "metadata": {},
   "source": [
    "### Tokenize the sentences\n"
   ]
  },
  {
   "cell_type": "code",
   "execution_count": 6,
   "metadata": {},
   "outputs": [],
   "source": [
    "tokenizer = BertTokenizer.from_pretrained(\"bert-base-multilingual-cased\")\n",
    "\n",
    "tokenized_texts = []\n",
    "labels = []\n",
    "\n",
    "\n",
    "for example in data:\n",
    "    tokenized_text = tokenizer.tokenize(example['request'])\n",
    "    tokenized_texts.append(tokenized_text)\n",
    "    labels.append(example['entities'])"
   ]
  },
  {
   "cell_type": "code",
   "execution_count": 67,
   "metadata": {},
   "outputs": [
    {
     "name": "stdout",
     "output_type": "stream",
     "text": [
      "62\n",
      "ניו יורק\n"
     ]
    }
   ],
   "source": [
    "# data = [\n",
    "#     {\n",
    "#       \"request\": \"I want to fly to New York on the 13.3\",\n",
    "#       \"entities\": [\n",
    "#         {\"start\": 17, \"end\": 25, \"text\": \"New York\", \"category\": \"DESTINATION\"},\n",
    "#         {\"start\": 33, \"end\": 37, \"text\": \"13.3\", \"category\": \"DATE\"}\n",
    "#       ]\n",
    "#     } \n",
    "# ]\n",
    "\n",
    "data = [\n",
    "    {\n",
    "      \"request\": \"ברצוני להזמין כרטיס טיסה מתל אביב לניו יורק לתאריך 2024-05-01.\",\n",
    "      \"class\": 0,\n",
    "      \"entities\": [\n",
    "        {\"start\": 25, \"end\": 33, \"text\": \"מתל אביב\", \"category\": \"ORIGIN\"},\n",
    "        {\"start\": 35, \"end\": 43, \"text\": \"ניו יורק\", \"category\": \"DESTINATION\"},\n",
    "        {\"start\": 51, \"end\": 60, \"text\": \"2024-05-01\", \"category\": \"DATE\"}\n",
    "      ]\n",
    "    }\n",
    "]\n",
    "print(len(data[0]['request']))\n",
    "print(data[0]['request'][35:43])\n"
   ]
  },
  {
   "cell_type": "code",
   "execution_count": 49,
   "metadata": {},
   "outputs": [
    {
     "name": "stdout",
     "output_type": "stream",
     "text": [
      "['O O O O O B-DESTINATION I-DESTINATION O O B-DATE']\n"
     ]
    }
   ],
   "source": [
    "\n",
    "data = [\n",
    "    {\n",
    "      \"request\": \"I want to fly to New York on the 13.3\",\n",
    "      \"entities\": [\n",
    "        {\"start\": 17, \"end\": 25, \"text\": \"New York\", \"category\": \"DESTINATION\"},\n",
    "        {\"start\": 33, \"end\": 37, \"text\": \"13.3\", \"category\": \"DATE\"}\n",
    "      ]\n",
    "    } \n",
    "]\n",
    "\n",
    "# Begeining Inside Outside\n",
    "# BIO label - O O O O O B-DESTINATION I-DESTINATION O O B-DATE\n",
    "\n",
    "# a function that replace each word in a sentence with its corresponding indexes in the sentecnce\n",
    "def replace_words_with_indexes(sentence):\n",
    "    indexes = \"\"\n",
    "    counter=0\n",
    "    for word in sentence.split(\" \"):\n",
    "        indexes += str(counter) + \"-\" + str(counter + len(word)) + \" \"\n",
    "        counter += len(word) + 1\n",
    "    return indexes.rstrip()\n",
    "\n",
    "def create_BIO(data):\n",
    "    bio_labels = []\n",
    "    for item in data:\n",
    "        bio = [\"O\"] * len(item['request'].split())\n",
    "        indexes = replace_words_with_indexes(item['request'])\n",
    "        for entity in item['entities']:\n",
    "            start = entity['start']\n",
    "            end = entity['end']\n",
    "            label_type = entity['category']\n",
    "            for i, index in enumerate(indexes.split(\" \")):\n",
    "                if int(index.split(\"-\")[0]) >= start and int(index.split(\"-\")[1]) <= end:\n",
    "                    if int(index.split(\"-\")[0]) == start:\n",
    "                        bio[i] = 'B-' + label_type \n",
    "                    else:\n",
    "                        bio[i] = 'I-' + label_type\n",
    "        bio_labels.append(' '.join(bio))\n",
    "    return bio_labels\n",
    "\n",
    "        \n",
    "\n",
    "print (create_BIO(data))"
   ]
  },
  {
   "cell_type": "code",
   "execution_count": 50,
   "metadata": {},
   "outputs": [
    {
     "data": {
      "text/plain": [
       "'O O O O O B-DESTINATION I-DESTINATION O O B-DATE'"
      ]
     },
     "execution_count": 50,
     "metadata": {},
     "output_type": "execute_result"
    }
   ],
   "source": [
    "def BIO_converter(r, entities):\n",
    "    to_replace = {} # needed to maintain all the NER to be replaced\n",
    "    for i in entities:\n",
    "        sub = r[i['start']+1:i['end']+2].split(' ') # 1 indexed values in entities\n",
    "        if len(sub) > 1:\n",
    "            vals = [f\"B-{i['category']}\"] + ([f\"I-{i['category']}\"] * (len(sub)-1))\n",
    "        else:\n",
    "            vals = [f\"B-{i['category']}\"]\n",
    "\n",
    "        to_replace = to_replace | dict(zip(sub,vals))\n",
    "\n",
    "    r = r.split(' ')\n",
    "    r = [to_replace[i] if i in to_replace else 'O' for i in r ]\n",
    "    return ' '.join(r)\n",
    "\n",
    "js = {\n",
    "        \"request\": \"I want to fly to New York on the 13.3\",\n",
    "        \"entities\": [\n",
    "          {\"start\": 16, \"end\": 23, \"text\": \"New York\", \"category\": \"DESTINATION\"},\n",
    "          {\"start\": 32, \"end\": 35, \"text\": \"13.3\", \"category\": \"DATE\"}\n",
    "        ]\n",
    "      }\n",
    "BIO_converter(js['request'], js['entities'])"
   ]
  },
  {
   "cell_type": "code",
   "execution_count": 44,
   "metadata": {},
   "outputs": [
    {
     "data": {
      "text/plain": [
       "{'classes': ['DATE', 'ORIGIN', 'DESTINATION'],\n",
       " 'annotations': [['אני רוצה לטוס לסינגפור\\r',\n",
       "   {'entities': [[14, 22, 'DESTINATION']]}],\n",
       "  ['אני רוצה להזמין כרטיס לרומא\\r', {'entities': [[22, 27, 'DESTINATION']]}],\n",
       "  [\"האם ניתן להזמין כרטיס טיסה דרך הצ'אטבוט?\\r\", {'entities': []}],\n",
       "  ['ברצוני להזמין כרטיס טיסה מתל אביב לניו יורק לתאריך 2024-05-01.\\r',\n",
       "   {'entities': [[25, 33, 'ORIGIN'],\n",
       "     [34, 43, 'DESTINATION'],\n",
       "     [51, 61, 'DATE']]}],\n",
       "  ['אני מעוניין לרכוש כרטיס טיסה שתצא מברצלונה ותגיע ליוון ב10.2\\r',\n",
       "   {'entities': [[34, 42, 'ORIGIN'],\n",
       "     [49, 54, 'DESTINATION'],\n",
       "     [55, 60, 'DATE']]}],\n",
       "  ['בתאריך ה10 למרץ אני רוצה לטוס ליוטה\\r',\n",
       "   {'entities': [[7, 15, 'DATE'], [30, 35, 'DESTINATION']]}],\n",
       "  ['באיזה מחיר ניתן להזמין כרטיס טיסה הלוך ושוב לפריז?\\r',\n",
       "   {'entities': [[44, 49, 'DESTINATION']]}],\n",
       "  ['רציתי להזמין כרטיס טיסה לילד קטן.\\r', {'entities': []}],\n",
       "  ['ברצוני להזמין טיסה לספרד ליום חמישי\\r',\n",
       "   {'entities': [[19, 24, 'DESTINATION'], [30, 35, 'DATE']]}],\n",
       "  ['כמה עולה כרטיס טיסה לברצלונה?\\r', {'entities': [[20, 28, 'DESTINATION']]}],\n",
       "  ['אני רוצה להזמין טיסה להיום בלילה\\r', {'entities': []}],\n",
       "  ['בא לי 7 מושבים למדריד\\r', {'entities': [[15, 21, 'DESTINATION']]}],\n",
       "  ['אשמח להזמין טיסה שיוצאת עד שעה 18\\r', {'entities': []}],\n",
       "  ['יש טיסות הלוך לרומניה שיוצאת מחר בבוקר?\\r',\n",
       "   {'entities': [[14, 21, 'DESTINATION']]}],\n",
       "  ['אני צריך שני מושבים ללונדון\\r', {'entities': [[20, 27, 'DESTINATION']]}],\n",
       "  ['אני רוצה לעשות הזמנה של טיסה\\r', {'entities': []}],\n",
       "  ['איך מזמינים טיסה למחר בבוקר?\\r', {'entities': [[17, 21, 'DATE']]}],\n",
       "  ['מה המחיר של טיסה לברלין?\\r', {'entities': [[17, 23, 'DESTINATION']]}]]}"
      ]
     },
     "execution_count": 44,
     "metadata": {},
     "output_type": "execute_result"
    }
   ],
   "source": [
    "data"
   ]
  },
  {
   "cell_type": "code",
   "execution_count": 45,
   "metadata": {},
   "outputs": [
    {
     "data": {
      "text/plain": [
       "[('אני רוצה לטוס לסינגפור\\r', {'entities': [[14, 22, 'DESTINATION']]}),\n",
       " ('אני רוצה להזמין כרטיס לרומא\\r', {'entities': [[22, 27, 'DESTINATION']]}),\n",
       " (\"האם ניתן להזמין כרטיס טיסה דרך הצ'אטבוט?\\r\", {'entities': []}),\n",
       " ('ברצוני להזמין כרטיס טיסה מתל אביב לניו יורק לתאריך 2024-05-01.\\r',\n",
       "  {'entities': [[25, 33, 'ORIGIN'],\n",
       "    [34, 43, 'DESTINATION'],\n",
       "    [51, 61, 'DATE']]}),\n",
       " ('אני מעוניין לרכוש כרטיס טיסה שתצא מברצלונה ותגיע ליוון ב10.2\\r',\n",
       "  {'entities': [[34, 42, 'ORIGIN'],\n",
       "    [49, 54, 'DESTINATION'],\n",
       "    [55, 60, 'DATE']]}),\n",
       " ('בתאריך ה10 למרץ אני רוצה לטוס ליוטה\\r',\n",
       "  {'entities': [[7, 15, 'DATE'], [30, 35, 'DESTINATION']]}),\n",
       " ('באיזה מחיר ניתן להזמין כרטיס טיסה הלוך ושוב לפריז?\\r',\n",
       "  {'entities': [[44, 49, 'DESTINATION']]}),\n",
       " ('רציתי להזמין כרטיס טיסה לילד קטן.\\r', {'entities': []}),\n",
       " ('ברצוני להזמין טיסה לספרד ליום חמישי\\r',\n",
       "  {'entities': [[19, 24, 'DESTINATION'], [30, 35, 'DATE']]}),\n",
       " ('כמה עולה כרטיס טיסה לברצלונה?\\r', {'entities': [[20, 28, 'DESTINATION']]}),\n",
       " ('אני רוצה להזמין טיסה להיום בלילה\\r', {'entities': []}),\n",
       " ('בא לי 7 מושבים למדריד\\r', {'entities': [[15, 21, 'DESTINATION']]}),\n",
       " ('אשמח להזמין טיסה שיוצאת עד שעה 18\\r', {'entities': []}),\n",
       " ('יש טיסות הלוך לרומניה שיוצאת מחר בבוקר?\\r',\n",
       "  {'entities': [[14, 21, 'DESTINATION']]}),\n",
       " ('אני צריך שני מושבים ללונדון\\r', {'entities': [[20, 27, 'DESTINATION']]}),\n",
       " ('אני רוצה לעשות הזמנה של טיסה\\r', {'entities': []}),\n",
       " ('איך מזמינים טיסה למחר בבוקר?\\r', {'entities': [[17, 21, 'DATE']]}),\n",
       " ('מה המחיר של טיסה לברלין?\\r', {'entities': [[17, 23, 'DESTINATION']]})]"
      ]
     },
     "execution_count": 45,
     "metadata": {},
     "output_type": "execute_result"
    }
   ],
   "source": [
    "entity_name = [\"ORIGIN\", \"DESTINATION\", \"DATE\"]\n",
    "\n",
    "train_data = data['annotations']\n",
    "train_data = [tuple(i) for i in train_data]\n",
    "\n",
    "train_data"
   ]
  },
  {
   "cell_type": "code",
   "execution_count": 46,
   "metadata": {},
   "outputs": [
    {
     "name": "stdout",
     "output_type": "stream",
     "text": [
      "[[14, 22, 'DESTINATION'], [0, 0, 'ORIGIN'], [0, 0, 'DATE']]\n",
      "[[22, 27, 'DESTINATION'], [0, 0, 'ORIGIN'], [0, 0, 'DATE']]\n",
      "[[0, 0, 'ORIGIN'], [0, 0, 'DESTINATION'], [0, 0, 'DATE']]\n",
      "[[25, 33, 'ORIGIN'], [34, 43, 'DESTINATION'], [51, 61, 'DATE']]\n",
      "[[34, 42, 'ORIGIN'], [49, 54, 'DESTINATION'], [55, 60, 'DATE']]\n",
      "[[7, 15, 'DATE'], [30, 35, 'DESTINATION'], [0, 0, 'ORIGIN']]\n",
      "[[44, 49, 'DESTINATION'], [0, 0, 'ORIGIN'], [0, 0, 'DATE']]\n",
      "[[0, 0, 'ORIGIN'], [0, 0, 'DESTINATION'], [0, 0, 'DATE']]\n",
      "[[19, 24, 'DESTINATION'], [30, 35, 'DATE'], [0, 0, 'ORIGIN']]\n",
      "[[20, 28, 'DESTINATION'], [0, 0, 'ORIGIN'], [0, 0, 'DATE']]\n",
      "[[0, 0, 'ORIGIN'], [0, 0, 'DESTINATION'], [0, 0, 'DATE']]\n",
      "[[15, 21, 'DESTINATION'], [0, 0, 'ORIGIN'], [0, 0, 'DATE']]\n",
      "[[0, 0, 'ORIGIN'], [0, 0, 'DESTINATION'], [0, 0, 'DATE']]\n",
      "[[14, 21, 'DESTINATION'], [0, 0, 'ORIGIN'], [0, 0, 'DATE']]\n",
      "[[20, 27, 'DESTINATION'], [0, 0, 'ORIGIN'], [0, 0, 'DATE']]\n",
      "[[0, 0, 'ORIGIN'], [0, 0, 'DESTINATION'], [0, 0, 'DATE']]\n",
      "[[17, 21, 'DATE'], [0, 0, 'ORIGIN'], [0, 0, 'DESTINATION']]\n",
      "[[17, 23, 'DESTINATION'], [0, 0, 'ORIGIN'], [0, 0, 'DATE']]\n"
     ]
    }
   ],
   "source": [
    "entities_to_check = ['ORIGIN', 'DESTINATION', 'DATE']\n",
    "\n",
    "for text, annotation in train_data:\n",
    "    existing_entities = [entity[2] for entity in annotation['entities']]\n",
    "    for entity_type in entities_to_check:\n",
    "        if entity_type not in existing_entities:\n",
    "            annotation['entities'].append([0, 0, entity_type])\n",
    "\n",
    "for text, annotation in train_data:\n",
    "    print(annotation['entities'])\n",
    "\n",
    "    "
   ]
  },
  {
   "cell_type": "code",
   "execution_count": 47,
   "metadata": {},
   "outputs": [
    {
     "data": {
      "text/plain": [
       "[('אני רוצה לטוס לסינגפור\\r',\n",
       "  {'entities': [(14, 22, 'DESTINATION'), [0, 0, 'ORIGIN'], [0, 0, 'DATE']]}),\n",
       " ('אני רוצה להזמין כרטיס לרומא\\r',\n",
       "  {'entities': [(22, 27, 'DESTINATION'), [0, 0, 'ORIGIN'], [0, 0, 'DATE']]}),\n",
       " (\"האם ניתן להזמין כרטיס טיסה דרך הצ'אטבוט?\\r\",\n",
       "  {'entities': [(0, 0, 'ORIGIN'), [0, 0, 'DESTINATION'], [0, 0, 'DATE']]}),\n",
       " ('ברצוני להזמין כרטיס טיסה מתל אביב לניו יורק לתאריך 2024-05-01.\\r',\n",
       "  {'entities': [(25, 33, 'ORIGIN'),\n",
       "    [34, 43, 'DESTINATION'],\n",
       "    [51, 61, 'DATE']]}),\n",
       " ('אני מעוניין לרכוש כרטיס טיסה שתצא מברצלונה ותגיע ליוון ב10.2\\r',\n",
       "  {'entities': [(34, 42, 'ORIGIN'),\n",
       "    [49, 54, 'DESTINATION'],\n",
       "    [55, 60, 'DATE']]}),\n",
       " ('בתאריך ה10 למרץ אני רוצה לטוס ליוטה\\r',\n",
       "  {'entities': [(7, 15, 'DATE'), [30, 35, 'DESTINATION'], [0, 0, 'ORIGIN']]}),\n",
       " ('באיזה מחיר ניתן להזמין כרטיס טיסה הלוך ושוב לפריז?\\r',\n",
       "  {'entities': [(44, 49, 'DESTINATION'), [0, 0, 'ORIGIN'], [0, 0, 'DATE']]}),\n",
       " ('רציתי להזמין כרטיס טיסה לילד קטן.\\r',\n",
       "  {'entities': [(0, 0, 'ORIGIN'), [0, 0, 'DESTINATION'], [0, 0, 'DATE']]}),\n",
       " ('ברצוני להזמין טיסה לספרד ליום חמישי\\r',\n",
       "  {'entities': [(19, 24, 'DESTINATION'), [30, 35, 'DATE'], [0, 0, 'ORIGIN']]}),\n",
       " ('כמה עולה כרטיס טיסה לברצלונה?\\r',\n",
       "  {'entities': [(20, 28, 'DESTINATION'), [0, 0, 'ORIGIN'], [0, 0, 'DATE']]}),\n",
       " ('אני רוצה להזמין טיסה להיום בלילה\\r',\n",
       "  {'entities': [(0, 0, 'ORIGIN'), [0, 0, 'DESTINATION'], [0, 0, 'DATE']]}),\n",
       " ('בא לי 7 מושבים למדריד\\r',\n",
       "  {'entities': [(15, 21, 'DESTINATION'), [0, 0, 'ORIGIN'], [0, 0, 'DATE']]}),\n",
       " ('אשמח להזמין טיסה שיוצאת עד שעה 18\\r',\n",
       "  {'entities': [(0, 0, 'ORIGIN'), [0, 0, 'DESTINATION'], [0, 0, 'DATE']]}),\n",
       " ('יש טיסות הלוך לרומניה שיוצאת מחר בבוקר?\\r',\n",
       "  {'entities': [(14, 21, 'DESTINATION'), [0, 0, 'ORIGIN'], [0, 0, 'DATE']]}),\n",
       " ('אני צריך שני מושבים ללונדון\\r',\n",
       "  {'entities': [(20, 27, 'DESTINATION'), [0, 0, 'ORIGIN'], [0, 0, 'DATE']]}),\n",
       " ('אני רוצה לעשות הזמנה של טיסה\\r',\n",
       "  {'entities': [(0, 0, 'ORIGIN'), [0, 0, 'DESTINATION'], [0, 0, 'DATE']]}),\n",
       " ('איך מזמינים טיסה למחר בבוקר?\\r',\n",
       "  {'entities': [(17, 21, 'DATE'), [0, 0, 'ORIGIN'], [0, 0, 'DESTINATION']]}),\n",
       " ('מה המחיר של טיסה לברלין?\\r',\n",
       "  {'entities': [(17, 23, 'DESTINATION'), [0, 0, 'ORIGIN'], [0, 0, 'DATE']]})]"
      ]
     },
     "execution_count": 47,
     "metadata": {},
     "output_type": "execute_result"
    }
   ],
   "source": [
    "for i in train_data:\n",
    "    if i[1]['entities'] == []:\n",
    "        i[1]['entities'] = (0, 0, entity_name)\n",
    "    else:\n",
    "        i[1]['entities'][0] = tuple(i[1]['entities'][0])\n",
    "train_data"
   ]
  },
  {
   "cell_type": "code",
   "execution_count": 49,
   "metadata": {},
   "outputs": [
    {
     "name": "stdout",
     "output_type": "stream",
     "text": [
      "אני רוצה לטוס לסינגפור\n",
      "[(14, 22, 'DESTINATION'), [0, 0, 'ORIGIN'], [0, 0, 'DATE']]\n"
     ]
    }
   ],
   "source": [
    "#create x and y for the model to train on\n",
    "x = [i[0] for i in train_data]\n",
    "y = [i[1]['entities'] for i in train_data]\n",
    "\n",
    "print(x[0])\n",
    "print(y[0])"
   ]
  }
 ],
 "metadata": {
  "kernelspec": {
   "display_name": "Python 3",
   "language": "python",
   "name": "python3"
  },
  "language_info": {
   "codemirror_mode": {
    "name": "ipython",
    "version": 3
   },
   "file_extension": ".py",
   "mimetype": "text/x-python",
   "name": "python",
   "nbconvert_exporter": "python",
   "pygments_lexer": "ipython3",
   "version": "3.11.7"
  }
 },
 "nbformat": 4,
 "nbformat_minor": 2
}
