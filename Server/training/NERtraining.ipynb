{
 "cells": [
  {
   "cell_type": "markdown",
   "metadata": {},
   "source": [
    "### Imports\n",
    "\n"
   ]
  },
  {
   "cell_type": "code",
   "execution_count": 1,
   "metadata": {},
   "outputs": [
    {
     "name": "stderr",
     "output_type": "stream",
     "text": [
      "c:\\Users\\nizan\\AppData\\Local\\Programs\\Python\\Python311\\Lib\\site-packages\\tqdm\\auto.py:21: TqdmWarning: IProgress not found. Please update jupyter and ipywidgets. See https://ipywidgets.readthedocs.io/en/stable/user_install.html\n",
      "  from .autonotebook import tqdm as notebook_tqdm\n"
     ]
    }
   ],
   "source": [
    "import json\n",
    "from transformers import BertTokenizer"
   ]
  },
  {
   "cell_type": "markdown",
   "metadata": {},
   "source": [
    "### load the dataset\n"
   ]
  },
  {
   "cell_type": "code",
   "execution_count": 4,
   "metadata": {},
   "outputs": [],
   "source": [
    "with open('./data/classNERData.json', 'r', encoding='utf-8') as file:\n",
    "    data = json.load(file)\n"
   ]
  },
  {
   "cell_type": "code",
   "execution_count": 9,
   "metadata": {},
   "outputs": [
    {
     "name": "stdout",
     "output_type": "stream",
     "text": [
      "['OOOOOOOOOOOOOOOOOOB-I-ORII-ORIGB-DI-DESI-DESTB-DATEI-DATEIONNATIONTINATIONNIGINOOOOOOOOOOOOOOOOOOOOOOOOOOOOOOOOOOOOOOOOOO']\n"
     ]
    }
   ],
   "source": [
    "##create BIO labels - for each sentence\n",
    "def create_bio_labels(data):\n",
    "    bio_labels = []\n",
    "    for sentence in data:\n",
    "        bio = 'O' * len(sentence['request'])\n",
    "        for entity in sentence['entities']:\n",
    "            start = entity['start']\n",
    "            end = entity['end']\n",
    "            label_type = entity['category']\n",
    "            tmp = sentence['request'][start:end]\n",
    "            for i, word in enumerate(tmp.split()):\n",
    "                if i == 0:\n",
    "                    bio = bio[:start] + 'B-' + label_type + bio[start + 2:]\n",
    "                else:\n",
    "                    bio = bio[:start] + 'I-' + label_type + bio[start + 2:]\n",
    "                start += len(word) + 1\n",
    "        bio_labels.append(bio)\n",
    "    return bio_labels\n",
    "\n",
    "data = [\n",
    "    {\n",
    "      \"request\": \"I want to fly to New York on the 13.3\",\n",
    "      \"entities\": [\n",
    "        {\"start\": 16, \"end\": 23, \"text\": \"New York\", \"category\": \"DESTINATION\"},\n",
    "        {\"start\": 32, \"end\": 35, \"text\": \"13.3\", \"category\": \"DATE\"}\n",
    "      ]\n",
    "    } \n",
    "]\n",
    "\n",
    "print(data['request'])\n",
    "# bio_labels = create_bio_labels(data)\n",
    "# print(bio_labels)"
   ]
  },
  {
   "cell_type": "code",
   "execution_count": null,
   "metadata": {},
   "outputs": [],
   "source": []
  },
  {
   "cell_type": "markdown",
   "metadata": {},
   "source": [
    "### Tokenize the sentences\n"
   ]
  },
  {
   "cell_type": "code",
   "execution_count": 6,
   "metadata": {},
   "outputs": [],
   "source": [
    "tokenizer = BertTokenizer.from_pretrained(\"bert-base-multilingual-cased\")\n",
    "\n",
    "tokenized_texts = []\n",
    "labels = []\n",
    "\n",
    "\n",
    "for example in data:\n",
    "    tokenized_text = tokenizer.tokenize(example['request'])\n",
    "    tokenized_texts.append(tokenized_text)\n",
    "    labels.append(example['entities'])"
   ]
  },
  {
   "cell_type": "code",
   "execution_count": 40,
   "metadata": {},
   "outputs": [
    {
     "name": "stdout",
     "output_type": "stream",
     "text": [
      "1\n",
      "['O', 'O', 'O', 'O', 'O', 'O', 'O', 'O', 'O', 'O']\n"
     ]
    }
   ],
   "source": [
    "data = [\n",
    "    {\n",
    "      \"request\": \"I want to fly to New York on the 13.3\",\n",
    "      \"entities\": [\n",
    "        {\"start\": 17, \"end\": 25, \"text\": \"New York\", \"category\": \"DESTINATION\"},\n",
    "        {\"start\": 33, \"end\": 37, \"text\": \"13.3\", \"category\": \"DATE\"}\n",
    "      ]\n",
    "    } \n",
    "]\n",
    "\n",
    "print(data[0]['request'][33])\n",
    "bio = [\"O\"] * len(data[0]['request'].split())\n",
    "print(bio)"
   ]
  },
  {
   "cell_type": "code",
   "execution_count": 41,
   "metadata": {},
   "outputs": [
    {
     "name": "stdout",
     "output_type": "stream",
     "text": [
      "0-1 2-6 7-9 10-13 14-16 17-20 21-25 26-28 29-32 33-37\n",
      "I\n",
      "want\n",
      "to\n",
      "fly\n",
      "to\n",
      "New\n",
      "York\n",
      "on\n",
      "the\n",
      "13.3\n",
      "['O O O O O B-DESTINATION I-DESTINATION O O B-DATE']\n"
     ]
    }
   ],
   "source": [
    "\n",
    "data = [\n",
    "    {\n",
    "      \"request\": \"I want to fly to New York on the 13.3\",\n",
    "      \"entities\": [\n",
    "        {\"start\": 17, \"end\": 25, \"text\": \"New York\", \"category\": \"DESTINATION\"},\n",
    "        {\"start\": 33, \"end\": 37, \"text\": \"13.3\", \"category\": \"DATE\"}\n",
    "      ]\n",
    "    } \n",
    "]\n",
    "\n",
    "# Begeining Inside Outside\n",
    "# BIO label - O O O O O B-DESTINATION I-DESTINATION O O B-DATE\n",
    "\n",
    "# a function that replace each word in a sentence with its corresponding indexes in the sentecnce\n",
    "def replace_words_with_indexes(sentence):\n",
    "    indexes = \"\"\n",
    "    counter=0\n",
    "    for word in sentence.split(\" \"):\n",
    "        indexes += str(counter) + \"-\" + str(counter + len(word)) + \" \"\n",
    "        counter += len(word) + 1\n",
    "    return indexes.rstrip()\n",
    "\n",
    "def create_BIO(data):\n",
    "    # bio = 'O' * len(data['request'].split()) #init with O for num of words\n",
    "    bio_labels = []\n",
    "    for item in data:\n",
    "        bio = [\"O\"] * len(item['request'].split())\n",
    "        indexes = replace_words_with_indexes(item['request'])\n",
    "        for entity in item['entities']:\n",
    "            start = entity['start']\n",
    "            end = entity['end']\n",
    "            label_type = entity['category']\n",
    "            tmp = item['request'][start:end]\n",
    "            for i, index in enumerate(indexes.split(\" \")):\n",
    "                if int(index.split(\"-\")[0]) >= start and int(index.split(\"-\")[1]) <= end:\n",
    "                    if int(index.split(\"-\")[0]) == start:\n",
    "                        bio[i] = 'B-' + label_type \n",
    "                    else:\n",
    "                        bio[i] = 'I-' + label_type\n",
    "        bio_labels.append(' '.join(bio))\n",
    "    return bio_labels\n",
    "\n",
    "        \n",
    "\n",
    "\n",
    "string = \"I want to fly to New York on the 13.3\"\n",
    "print(replace_words_with_indexes(\"I want to fly to New York on the 13.3\"))\n",
    "indxes = replace_words_with_indexes(\"I want to fly to New York on the 13.3\").rstrip()\n",
    "for item in indxes.split(\" \"):\n",
    "    print(string[int(item.split(\"-\")[0]):int(item.split(\"-\")[1])])\n",
    "print (create_BIO(data))"
   ]
  }
 ],
 "metadata": {
  "kernelspec": {
   "display_name": "Python 3",
   "language": "python",
   "name": "python3"
  },
  "language_info": {
   "codemirror_mode": {
    "name": "ipython",
    "version": 3
   },
   "file_extension": ".py",
   "mimetype": "text/x-python",
   "name": "python",
   "nbconvert_exporter": "python",
   "pygments_lexer": "ipython3",
   "version": "3.11.7"
  }
 },
 "nbformat": 4,
 "nbformat_minor": 2
}
