{
 "cells": [
  {
   "cell_type": "code",
   "execution_count": 42,
   "metadata": {},
   "outputs": [
    {
     "name": "stdout",
     "output_type": "stream",
     "text": [
      "Extracted dates: ['1.3']\n",
      "['1.3']\n"
     ]
    }
   ],
   "source": [
    "import re\n",
    "\n",
    "def extract_dates(text):\n",
    "    # Corrected date pattern\n",
    "    date_pattern = r\"\\d{1,2}[./\\-\\s]\\d{1,2}(?:[./\\-\\s]\\d{2,4})?\"\n",
    "\n",
    "    # Find all matches\n",
    "    matches = re.findall(date_pattern, text)\n",
    "    \n",
    "    # Sort matches by length in descending order\n",
    "    matches = sorted(matches, key=len, reverse=True)\n",
    "    \n",
    "    filtered_dates = []\n",
    "    seen = set()\n",
    "    \n",
    "    for match in matches:\n",
    "        # Check if the current match is not a substring of any already seen longer date\n",
    "        if not any(longer_match for longer_match in seen if match in longer_match):\n",
    "            filtered_dates.append(match)\n",
    "            seen.add(match)\n",
    "    \n",
    "    return filtered_dates\n",
    "\n",
    "# Example usage\n",
    "text = \"אני רוצה להזמין כרטיס טיסה ליוון מישראל ב1.3  \"\n",
    "\n",
    "\n",
    "extracted_dates = extract_dates(text)\n",
    "print(\"Extracted dates:\", extracted_dates)\n",
    "print(extracted_dates)"
   ]
  },
  {
   "cell_type": "code",
   "execution_count": 43,
   "metadata": {},
   "outputs": [
    {
     "name": "stdout",
     "output_type": "stream",
     "text": [
      "['יוון', 'ישראל']\n",
      "Entities: {'Origin': 'ישראל', 'Destination': 'יוון', 'Date': '1.3'}\n",
      "['1.3']\n"
     ]
    }
   ],
   "source": [
    "import re\n",
    "\n",
    "\n",
    "#same code but in a function\n",
    "def extract_entities(text):\n",
    "    places = [\"ישראל\", \"יוון\", \"תל אביב\", \"ניו יורק\", \"לוס אנג'לס\", \"פריז\", \"לונדון\", \"ברלין\", \"רומא\", \"מדריד\", \"אמסטרדם\", \"פראג\", \"בודפשט\", \"וינה\", \"פרנקפורט\", \"מינכן\", \"זיריך\", \"קופנהגן\", \"אוסלו\", \"סטוקהולם\", \"הלסינקי\", \"ריגה\", \"וילנה\", \"קייב\", \"מוסקבה\", \"סנט פטרסבורג\", \"קראקוב\", \"וורשה\", \"בוקרשט\", \"סופיה\", \"בוקרשט\", \"בודפשט\", \"פראג\", \"וינה\", \"זלצבורג\", \"קראקוב\", \"פרנקפורט\", \"מינכן\", \"ברלין\", \"קולון\", \"פריז\", \"לונדון\", \"מדריד\", \"ברצלונה\", \"רומא\", \"מילאנו\", \"פירנצה\", \"וינציה\", \"פראג\", \"ברטיסלבה\", \"בודפשט\", \"וינה\", \"זלצבורג\", \"קראקוב\", \"פרנקפורט\", \"מינכן\", \"ברלין\", \"קולון\"]\n",
    "    places_pattern = \"|\".join(places)\n",
    "\n",
    "    before_origin = [\"מ\", \"מאת\", \"מן\", \"מן ה\"]\n",
    "    before_destination = [\"ל\", \"אל\", \"לאת\", \"לכיוון\", \"לכיוון של\", \"לכיוון של ה\", \"לכיוון שלא\", \"לכיוון שלאת\"]\n",
    "\n",
    "    entities = {\n",
    "        \"Origin\": None,\n",
    "        \"Destination\": None,\n",
    "        \"Date\": None\n",
    "    }\n",
    "        \n",
    "    place_matches = re.findall(places_pattern, text)\n",
    "    print(place_matches)\n",
    "    if place_matches:\n",
    "        for i, place in enumerate(place_matches):\n",
    "            if len(place_matches) == 2:\n",
    "                other_place = place_matches[i-1]\n",
    "            part_to_check = text.split(place)[0]\n",
    "            first_part_to_check = part_to_check.split(\" \")[-1]\n",
    "            second_part_to_check = part_to_check.split(\" \")[-2]\n",
    "            #check if the parts are in before_origin or before_destination\n",
    "            if first_part_to_check in before_origin or second_part_to_check in before_origin:\n",
    "                entities[\"Origin\"] = place\n",
    "                if len(place_matches) == 2:\n",
    "                    entities[\"Destination\"] = other_place\n",
    "            elif first_part_to_check in before_destination or second_part_to_check in before_destination:\n",
    "                entities[\"Destination\"] = place\n",
    "                if len(place_matches) == 2:\n",
    "                    entities[\"Origin\"] = other_place\n",
    "        #if didnt find origin or destination set the first place as origin\n",
    "        if entities[\"Origin\"] == None:\n",
    "            entities[\"Origin\"] = place_matches[0]\n",
    "        #if didnt find destination set the second place as destination\n",
    "        if entities[\"Destination\"] == None and len(place_matches) == 2:\n",
    "            entities[\"Destination\"] = place_matches[1]\n",
    "    else:\n",
    "        print(\"No places found\")\n",
    "    \n",
    "    dates = extract_dates(text)\n",
    "    if dates:\n",
    "        entities[\"Date\"] = dates[0]\n",
    "\n",
    "    print(\"Entities:\", entities)\n",
    "\n",
    "text = \"אני רוצה להזמין כרטיס טיסה ליוון מישראל ב1.3\"\n",
    "extract_entities(text)\n",
    "print(extract_dates(text))\n"
   ]
  },
  {
   "cell_type": "markdown",
   "metadata": {},
   "source": []
  }
 ],
 "metadata": {
  "kernelspec": {
   "display_name": "venv",
   "language": "python",
   "name": "python3"
  },
  "language_info": {
   "codemirror_mode": {
    "name": "ipython",
    "version": 3
   },
   "file_extension": ".py",
   "mimetype": "text/x-python",
   "name": "python",
   "nbconvert_exporter": "python",
   "pygments_lexer": "ipython3",
   "version": "3.11.7"
  }
 },
 "nbformat": 4,
 "nbformat_minor": 2
}
