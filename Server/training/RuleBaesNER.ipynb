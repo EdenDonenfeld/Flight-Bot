{
 "cells": [
  {
   "cell_type": "code",
   "execution_count": 26,
   "metadata": {},
   "outputs": [
    {
     "name": "stdout",
     "output_type": "stream",
     "text": [
      "{'Origin': 'יוון', 'Destination': 'ישראל', 'Date': None}\n"
     ]
    }
   ],
   "source": [
    "import re\n",
    "\n",
    "def extract_entities(text):\n",
    "    places = [\"ישראל\", \"יוון\", \"תל אביב\", \"ניו יורק\", \"לוס אנג'לס\", \"פריז\", \"לונדון\", \"ברלין\", \"רומא\", \"מדריד\", \"אמסטרדם\", \"פראג\", \"בודפשט\", \"וינה\", \"פרנקפורט\", \"מינכן\", \"זיריך\", \"קופנהגן\", \"אוסלו\", \"סטוקהולם\", \"הלסינקי\", \"ריגה\", \"וילנה\", \"קייב\", \"מוסקבה\", \"סנט פטרסבורג\", \"קראקוב\", \"וורשה\", \"בוקרשט\", \"סופיה\", \"בוקרשט\", \"בודפשט\", \"פראג\", \"וינה\", \"זלצבורג\", \"קראקוב\", \"פרנקפורט\", \"מינכן\", \"ברלין\", \"קולון\", \"פריז\", \"לונדון\", \"מדריד\", \"ברצלונה\", \"רומא\", \"מילאנו\", \"פירנצה\", \"וינציה\", \"פראג\", \"ברטיסלבה\", \"בודפשט\", \"וינה\", \"זלצבורג\", \"קראקוב\", \"פרנקפורט\", \"מינכן\", \"ברלין\", \"קולון\"]\n",
    "    places_pattern = \"|\".join(places)\n",
    "    before_origin = [\"מ\", \"מאת\", \"מן\", \"מן ה\"]\n",
    "    before_destination = [\"ל\", \"אל\", \"לאת\", \"לכיוון\", \"לכיוון של\", \"לכיוון של ה\", \"לכיוון שלא\", \"לכיוון שלאת\"]\n",
    "\n",
    "    date_patterns = [\n",
    "        r\"\\b\\d{1,2}\\.\\d{1,2}\\b\",\n",
    "        r\"\\b\\d{1,2}/\\d{1,2}/\\d{2,4}\\b\",\n",
    "        r\"\\b\\d{1,2} \\w+ \\d{2,4}\\b\",\n",
    "        r\"\\b\\d{1,2} ב\\w+ \\d{2,4}\\b\",\n",
    "        r\"\\b\\d{1,2} \\w+\\b\",\n",
    "        r\"\\b\\w+ \\d{1,2}\\b\",\n",
    "    ]\n",
    "    \n",
    "    entities = {\n",
    "        \"Origin\": None,\n",
    "        \"Destination\": None,\n",
    "        \"Date\": None\n",
    "    }\n",
    "    \n",
    "    # Extract places\n",
    "    place_matches = re.findall(places_pattern, text)\n",
    "    if place_matches:\n",
    "        for i, place in enumerate(place_matches):\n",
    "            if len(place_matches) == 2:\n",
    "                other_place = place_matches[i-1]\n",
    "            part_to_check = text.split(place)[0]\n",
    "            first_part_to_check = part_to_check.split(\" \")[-1]\n",
    "            second_part_to_check = part_to_check.split(\" \")[-2]\n",
    "            #check if the parts are in before_origin or before_destination\n",
    "            if first_part_to_check in before_origin or second_part_to_check in before_origin:\n",
    "                entities[\"Origin\"] = place\n",
    "                if len(place_matches) == 2:\n",
    "                    entities[\"Destination\"] = other_place\n",
    "            elif first_part_to_check in before_destination or second_part_to_check in before_destination:\n",
    "                entities[\"Destination\"] = place\n",
    "                if len(place_matches) == 2:\n",
    "                    entities[\"Origin\"] = other_place\n",
    "        #if didnt find origin or destination set the first place as origin\n",
    "        if entities[\"Origin\"] == None:\n",
    "            entities[\"Origin\"] = place_matches[0]\n",
    "        #if didnt find destination set the second place as destination\n",
    "        if entities[\"Destination\"] == None and len(place_matches) == 2:\n",
    "            entities[\"Destination\"] = place_matches[1]\n",
    "    else:\n",
    "        print(\"No places found\")\n",
    "    return entities\n",
    "\n",
    "\n",
    "# Test the function\n",
    "text = \"אני רוצה להזמין כרטיס טיסה לישראל מיוון ב1.3\"\n",
    "entities = extract_entities(text)\n",
    "print(entities)\n"
   ]
  },
  {
   "cell_type": "code",
   "execution_count": 22,
   "metadata": {},
   "outputs": [
    {
     "name": "stdout",
     "output_type": "stream",
     "text": [
      "['יוון', 'ישראל']\n",
      "{'Origin': 'ישראל', 'Destination': 'יוון', 'Date': None}\n"
     ]
    }
   ],
   "source": [
    "import re\n",
    "places = [\"ישראל\", \"יוון\", \"תל אביב\", \"ניו יורק\", \"לוס אנג'לס\", \"פריז\", \"לונדון\", \"ברלין\", \"רומא\", \"מדריד\", \"אמסטרדם\", \"פראג\", \"בודפשט\", \"וינה\", \"פרנקפורט\", \"מינכן\", \"זיריך\", \"קופנהגן\", \"אוסלו\", \"סטוקהולם\", \"הלסינקי\", \"ריגה\", \"וילנה\", \"קייב\", \"מוסקבה\", \"סנט פטרסבורג\", \"קראקוב\", \"וורשה\", \"בוקרשט\", \"סופיה\", \"בוקרשט\", \"בודפשט\", \"פראג\", \"וינה\", \"זלצבורג\", \"קראקוב\", \"פרנקפורט\", \"מינכן\", \"ברלין\", \"קולון\", \"פריז\", \"לונדון\", \"מדריד\", \"ברצלונה\", \"רומא\", \"מילאנו\", \"פירנצה\", \"וינציה\", \"פראג\", \"ברטיסלבה\", \"בודפשט\", \"וינה\", \"זלצבורג\", \"קראקוב\", \"פרנקפורט\", \"מינכן\", \"ברלין\", \"קולון\"]\n",
    "places_pattern = \"|\".join(places)\n",
    "# print(places_pattern)\n",
    "before_origin = [\"מ\", \"מאת\", \"מן\", \"מן ה\"]\n",
    "before_destination = [\"ל\", \"אל\", \"לאת\", \"לכיוון\", \"לכיוון של\", \"לכיוון של ה\", \"לכיוון שלא\", \"לכיוון שלאת\"]\n",
    "\n",
    "entities = {\n",
    "    \"Origin\": None,\n",
    "    \"Destination\": None,\n",
    "    \"Date\": None\n",
    "}\n",
    "    \n",
    "\n",
    "text = \"אני רוצה להזמין כרטיס טיסה ליוון מישראל ב1.3\"\n",
    "place_matches = re.findall(places_pattern, text)\n",
    "print(place_matches)\n",
    "if place_matches:\n",
    "    for i, place in enumerate(place_matches):\n",
    "        if len(place_matches) == 2:\n",
    "            other_place = place_matches[i-1]\n",
    "        part_to_check = text.split(place)[0]\n",
    "        first_part_to_check = part_to_check.split(\" \")[-1]\n",
    "        second_part_to_check = part_to_check.split(\" \")[-2]\n",
    "        #check if the parts are in before_origin or before_destination\n",
    "        if first_part_to_check in before_origin or second_part_to_check in before_origin:\n",
    "            entities[\"Origin\"] = place\n",
    "            if len(place_matches) == 2:\n",
    "                entities[\"Destination\"] = other_place\n",
    "        elif first_part_to_check in before_destination or second_part_to_check in before_destination:\n",
    "            entities[\"Destination\"] = place\n",
    "            if len(place_matches) == 2:\n",
    "                entities[\"Origin\"] = other_place\n",
    "    #if didnt find origin or destination set the first place as origin\n",
    "    if entities[\"Origin\"] == None:\n",
    "        entities[\"Origin\"] = place_matches[0]\n",
    "    #if didnt find destination set the second place as destination\n",
    "    if entities[\"Destination\"] == None and len(place_matches) == 2:\n",
    "        entities[\"Destination\"] = place_matches[1]\n",
    "else:\n",
    "    print(\"No places found\")\n",
    "\n",
    "print(entities)\n"
   ]
  },
  {
   "cell_type": "code",
   "execution_count": null,
   "metadata": {},
   "outputs": [],
   "source": []
  }
 ],
 "metadata": {
  "kernelspec": {
   "display_name": "venv",
   "language": "python",
   "name": "python3"
  },
  "language_info": {
   "codemirror_mode": {
    "name": "ipython",
    "version": 3
   },
   "file_extension": ".py",
   "mimetype": "text/x-python",
   "name": "python",
   "nbconvert_exporter": "python",
   "pygments_lexer": "ipython3",
   "version": "3.11.0"
  }
 },
 "nbformat": 4,
 "nbformat_minor": 2
}
